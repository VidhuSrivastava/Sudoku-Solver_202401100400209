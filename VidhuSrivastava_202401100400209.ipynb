{
  "nbformat": 4,
  "nbformat_minor": 0,
  "metadata": {
    "colab": {
      "provenance": []
    },
    "kernelspec": {
      "name": "python3",
      "display_name": "Python 3"
    },
    "language_info": {
      "name": "python"
    }
  },
  "cells": [
    {
      "cell_type": "code",
      "execution_count": 3,
      "metadata": {
        "colab": {
          "base_uri": "https://localhost:8080/"
        },
        "id": "fJNd4n7GPXI8",
        "outputId": "db98acb3-4842-41d4-930d-0794515805a7"
      },
      "outputs": [
        {
          "output_type": "stream",
          "name": "stdout",
          "text": [
            "\n",
            "Welcome to the Sudoku Solver!\n",
            "\n",
            "Enter Sudoku row by row (9 numbers, use 0 for empty cells):\n",
            "5 3 0 0 7 0 0 0 0\n",
            "6 0 0 1 9 5 0 0 0\n",
            "0 9 8 0 0 0 0 6 0\n",
            "8 0 0 0 6 0 0 0 3\n",
            "4 0 0 8 0 3 0 0 1\n",
            "7 0 0 0 2 0 0 0 6\n",
            "0 6 0 0 0 0 2 8 0\n",
            "0 0 0 4 1 9 0 0 5\n",
            "0 0 0 0 8 0 0 7 9\n",
            "\n",
            "Solved Sudoku:\n",
            "5 3 4 6 7 8 9 1 2\n",
            "6 7 2 1 9 5 3 4 8\n",
            "1 9 8 3 4 2 5 6 7\n",
            "8 5 9 7 6 1 4 2 3\n",
            "4 2 6 8 5 3 7 9 1\n",
            "7 1 3 9 2 4 8 5 6\n",
            "9 6 1 5 3 7 2 8 4\n",
            "2 8 7 4 1 9 6 3 5\n",
            "3 4 5 2 8 6 1 7 9\n",
            "\n",
            "Thank you for using the Sudoku Solver! Have a great day!\n",
            "\n"
          ]
        }
      ],
      "source": [
        "def is_valid(board, row, col, num):\n",
        "    \"\"\"Check if placing num at board[row][col] is valid.\"\"\"\n",
        "\n",
        "    # Check if num is in the same row or column\n",
        "    for i in range(9):\n",
        "        if board[row][i] == num or board[i][col] == num:\n",
        "            return False\n",
        "\n",
        "    # Check if num is in the same 3x3 box\n",
        "    box_x, box_y = (row // 3) * 3, (col // 3) * 3\n",
        "    for i in range(3):\n",
        "        for j in range(3):\n",
        "            if board[box_x + i][box_y + j] == num:\n",
        "                return False\n",
        "\n",
        "    return True\n",
        "\n",
        "def solve_sudoku(board):\n",
        "    \"\"\"Solve the Sudoku puzzle using backtracking.\"\"\"\n",
        "\n",
        "    for row in range(9):\n",
        "        for col in range(9):\n",
        "            # Find an empty cell (represented by 0)\n",
        "            if board[row][col] == 0:\n",
        "                # Try numbers from 1 to 9\n",
        "                for num in range(1, 10):\n",
        "                    if is_valid(board, row, col, num):\n",
        "                        board[row][col] = num  # Place the number\n",
        "\n",
        "                        # Recursively try to solve the rest of the board\n",
        "                        if solve_sudoku(board):\n",
        "                            return True\n",
        "\n",
        "                        # If no solution, reset the cell and backtrack\n",
        "                        board[row][col] = 0\n",
        "\n",
        "                return False  # If no number fits, return False\n",
        "\n",
        "    return True  # If the board is fully solved, return True\n",
        "\n",
        "def print_board(board):\n",
        "    \"\"\"Print the Sudoku board in a readable format.\"\"\"\n",
        "    for row in board:\n",
        "        print(\" \".join(map(str, row)))\n",
        "\n",
        "# Welcome message\n",
        "print(\"\\nWelcome to the Sudoku Solver!\\n\")\n",
        "print(\"Enter Sudoku row by row (9 numbers, use 0 for empty cells):\")\n",
        "\n",
        "# Read Sudoku puzzle from user input\n",
        "sudoku_board = []\n",
        "for _ in range(9):\n",
        "    sudoku_board.append(list(map(int, input().split())))\n",
        "\n",
        "# Solve the Sudoku puzzle and print the solution\n",
        "if solve_sudoku(sudoku_board):\n",
        "    print(\"\\nSolved Sudoku:\")\n",
        "    print_board(sudoku_board)\n",
        "    print(\"\\nThank you for using the Sudoku Solver! Have a great day!\\n\")\n",
        "else:\n",
        "    print(\"No solution exists\")\n"
      ]
    }
  ]
}